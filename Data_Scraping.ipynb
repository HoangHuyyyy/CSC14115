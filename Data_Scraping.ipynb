{
  "cells": [
    {
      "cell_type": "markdown",
      "metadata": {
        "id": "7Guq2_Ngqia0"
      },
      "source": [
        "### **1. Data Scraping**"
      ]
    },
    {
      "cell_type": "markdown",
      "metadata": {
        "id": "N5xeztTMqxbs"
      },
      "source": [
        "**1.1. Cài đặt thư viện cần thiết**"
      ]
    },
    {
      "cell_type": "code",
      "execution_count": 1,
      "metadata": {
        "colab": {
          "base_uri": "https://localhost:8080/"
        },
        "id": "CSic-AnwHTr_",
        "outputId": "f299ce9b-b063-4359-98ed-9e6075d20a1b"
      },
      "outputs": [
        {
          "name": "stdout",
          "output_type": "stream",
          "text": [
            "Collecting vnstock\n",
            "  Downloading vnstock-0.2.8.9-py3-none-any.whl (37 kB)\n",
            "Installing collected packages: vnstock\n",
            "Successfully installed vnstock-0.2.8.9\n"
          ]
        }
      ],
      "source": [
        "!pip install vnstock"
      ]
    },
    {
      "cell_type": "code",
      "execution_count": 1,
      "metadata": {
        "id": "Im8I4Mv_HXEQ"
      },
      "outputs": [],
      "source": [
        "from datetime import datetime, timedelta\n",
        "import pandas as pd\n",
        "import os\n",
        "from vnstock import *"
      ]
    },
    {
      "cell_type": "markdown",
      "metadata": {
        "id": "xLGBCNLbrQk-"
      },
      "source": [
        "**1.2. Tiến hành lấy dữ liệu**"
      ]
    },
    {
      "cell_type": "code",
      "execution_count": 3,
      "metadata": {},
      "outputs": [],
      "source": [
        "now = datetime.now() - timedelta(days=1)\n",
        "now = now.strftime(\"%Y-%m-%d\")"
      ]
    },
    {
      "cell_type": "code",
      "execution_count": 2,
      "metadata": {
        "colab": {
          "base_uri": "https://localhost:8080/"
        },
        "id": "TJC1HdhQIxw3",
        "outputId": "20599843-a80c-4441-934a-9b5b8e6856fe"
      },
      "outputs": [
        {
          "name": "stdout",
          "output_type": "stream",
          "text": [
            "['AGR', 'BID', 'VCB', 'CTG']\n"
          ]
        }
      ],
      "source": [
        "stocks_list = ['AGR', 'BID','VCB', 'CTG']\n",
        "\n",
        "print(stocks_list)"
      ]
    },
    {
      "cell_type": "code",
      "execution_count": 9,
      "metadata": {
        "id": "Sz-DJe03KAB2"
      },
      "outputs": [],
      "source": [
        "output_folder = 'stock_data_output'\n",
        "os.makedirs(output_folder, exist_ok=True)\n",
        "\n",
        "# Create an empty dictionary to store stock data\n",
        "df = stock_historical_data('AGR', '2017-01-01', now, \"1D\", \"stock\")\n",
        "df = df[['time', 'close']].rename(columns={\"time\": \"Date\", \"close\": 'ACB'})\n",
        "\n",
        "for stock in stocks_list[1:]:\n",
        "    stock_df = stock_historical_data(stock, '2017-01-01', now, \"1D\", \"stock\")\n",
        "    stock_df = stock_df[['time', 'close']].rename(columns={\"time\": \"Date\", \"close\": stock})\n",
        "    stock_df.drop_duplicates(subset = ['Date'], keep= 'last', inplace= True)\n",
        "    df = df.merge(stock_df, how = 'left', on = 'Date')\n",
        "\n",
        "\n",
        "df = df.ffill().bfill()\n",
        "df.to_csv('stock_data_output/VN30.csv', index = True)"
      ]
    },
    {
      "cell_type": "code",
      "execution_count": null,
      "metadata": {},
      "outputs": [],
      "source": []
    }
  ],
  "metadata": {
    "colab": {
      "provenance": []
    },
    "kernelspec": {
      "display_name": "Python 3",
      "name": "python3"
    },
    "language_info": {
      "codemirror_mode": {
        "name": "ipython",
        "version": 3
      },
      "file_extension": ".py",
      "mimetype": "text/x-python",
      "name": "python",
      "nbconvert_exporter": "python",
      "pygments_lexer": "ipython3",
      "version": "3.10.12"
    }
  },
  "nbformat": 4,
  "nbformat_minor": 0
}

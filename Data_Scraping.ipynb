{
  "cells": [
    {
      "cell_type": "markdown",
      "metadata": {
        "id": "7Guq2_Ngqia0"
      },
      "source": [
        "### **1. Data Scraping**"
      ]
    },
    {
      "cell_type": "markdown",
      "metadata": {
        "id": "N5xeztTMqxbs"
      },
      "source": [
        "**1.1. Cài đặt thư viện cần thiết**"
      ]
    },
    {
      "cell_type": "code",
      "execution_count": 1,
      "metadata": {
        "colab": {
          "base_uri": "https://localhost:8080/"
        },
        "id": "CSic-AnwHTr_",
        "outputId": "f299ce9b-b063-4359-98ed-9e6075d20a1b"
      },
      "outputs": [
        {
          "name": "stdout",
          "output_type": "stream",
          "text": [
            "Collecting vnstock\n",
            "  Downloading vnstock-0.2.8.9-py3-none-any.whl (37 kB)\n",
            "Installing collected packages: vnstock\n",
            "Successfully installed vnstock-0.2.8.9\n"
          ]
        }
      ],
      "source": [
        "!pip install vnstock"
      ]
    },
    {
      "cell_type": "code",
      "execution_count": 6,
      "metadata": {
        "id": "Im8I4Mv_HXEQ"
      },
      "outputs": [],
      "source": [
        "from datetime import datetime, timedelta\n",
        "import pandas as pd\n",
        "import os\n",
        "from vnstock import *"
      ]
    },
    {
      "cell_type": "markdown",
      "metadata": {
        "id": "xLGBCNLbrQk-"
      },
      "source": [
        "**1.2. Tiến hành lấy dữ liệu**"
      ]
    },
    {
      "cell_type": "code",
      "execution_count": 8,
      "metadata": {
        "colab": {
          "base_uri": "https://localhost:8080/"
        },
        "id": "TJC1HdhQIxw3",
        "outputId": "20599843-a80c-4441-934a-9b5b8e6856fe"
      },
      "outputs": [
        {
          "name": "stdout",
          "output_type": "stream",
          "text": [
            "['AGR', 'BID', 'VCB', 'CTG']\n"
          ]
        }
      ],
      "source": [
        "stocks_list = ['AGR', 'BID','VCB', 'CTG']\n",
        "\n",
        "print(stocks_list)"
      ]
    },
    {
      "cell_type": "code",
      "execution_count": 9,
      "metadata": {
        "id": "Sz-DJe03KAB2"
      },
      "outputs": [],
      "source": [
        "output_folder = 'stock_data_output'\n",
        "os.makedirs(output_folder, exist_ok=True)\n",
        "\n",
        "# Create an empty dictionary to store stock data\n",
        "stock_data = {}\n",
        "\n",
        "for stock_symbol in stocks_list:\n",
        "    try:\n",
        "        # Fetch data for each stock\n",
        "        stock_data[stock_symbol] = stock_historical_data(stock_symbol, '2017-01-01', '2023-12-31', \"1D\", \"stock\",beautify=False)\n",
        "        stock_data[stock_symbol].to_csv(f'stock_data_output/{stock_symbol}.csv',index=True)\n",
        "    except KeyError:\n",
        "        print(f\"Skipping invalid stock symbol: {stock_symbol}\")"
      ]
    }
  ],
  "metadata": {
    "colab": {
      "provenance": []
    },
    "kernelspec": {
      "display_name": "Python 3",
      "name": "python3"
    },
    "language_info": {
      "name": "python"
    }
  },
  "nbformat": 4,
  "nbformat_minor": 0
}
